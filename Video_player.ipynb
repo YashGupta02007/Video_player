{
 "cells": [
  {
   "cell_type": "code",
   "execution_count": 1,
   "id": "314c0ab8-1a4a-4019-baba-24909ff65aff",
   "metadata": {},
   "outputs": [
    {
     "name": "stdout",
     "output_type": "stream",
     "text": [
      "Requirement already satisfied: opencv-python in c:\\users\\yash2\\appdata\\local\\programs\\python\\python312\\lib\\site-packages (4.9.0.80)Note: you may need to restart the kernel to use updated packages.\n",
      "\n",
      "Requirement already satisfied: numpy>=1.21.2 in c:\\users\\yash2\\appdata\\local\\programs\\python\\python312\\lib\\site-packages (from opencv-python) (1.26.4)\n"
     ]
    }
   ],
   "source": [
    "pip install opencv-python"
   ]
  },
  {
   "cell_type": "code",
   "execution_count": 2,
   "id": "8b7f13a4-f92a-4b4b-b550-de22231f3489",
   "metadata": {},
   "outputs": [
    {
     "name": "stdout",
     "output_type": "stream",
     "text": [
      "Error in opening the video file\n"
     ]
    },
    {
     "ename": "TypeError",
     "evalue": "VideoWriter_fourcc() missing required argument 'c4' (pos 4)",
     "output_type": "error",
     "traceback": [
      "\u001b[1;31m---------------------------------------------------------------------------\u001b[0m",
      "\u001b[1;31mTypeError\u001b[0m                                 Traceback (most recent call last)",
      "Cell \u001b[1;32mIn[2], line 16\u001b[0m\n\u001b[0;32m     13\u001b[0m frame_height \u001b[38;5;241m=\u001b[39m \u001b[38;5;28mint\u001b[39m(new_capture\u001b[38;5;241m.\u001b[39mget(cv2\u001b[38;5;241m.\u001b[39mCAP_PROP_FRAME_HEIGHT))\n\u001b[0;32m     15\u001b[0m \u001b[38;5;66;03m# Create an OpenCV VideoWriter object to play the audio\u001b[39;00m\n\u001b[1;32m---> 16\u001b[0m audio_writer \u001b[38;5;241m=\u001b[39m cv2\u001b[38;5;241m.\u001b[39mVideoWriter(\u001b[38;5;124m\"\u001b[39m\u001b[38;5;124mtemp_audio.mp3\u001b[39m\u001b[38;5;124m\"\u001b[39m, \u001b[43mcv2\u001b[49m\u001b[38;5;241;43m.\u001b[39;49m\u001b[43mVideoWriter_fourcc\u001b[49m\u001b[43m(\u001b[49m\u001b[38;5;241;43m*\u001b[39;49m\u001b[38;5;124;43m'\u001b[39;49m\u001b[38;5;124;43mmp3\u001b[39;49m\u001b[38;5;124;43m'\u001b[39;49m\u001b[43m)\u001b[49m, \u001b[38;5;28mint\u001b[39m(fps), (frame_width, frame_height))\n\u001b[0;32m     18\u001b[0m \u001b[38;5;66;03m# Loop through the video frames\u001b[39;00m\n\u001b[0;32m     19\u001b[0m \u001b[38;5;28;01mwhile\u001b[39;00m new_capture\u001b[38;5;241m.\u001b[39misOpened():\n",
      "\u001b[1;31mTypeError\u001b[0m: VideoWriter_fourcc() missing required argument 'c4' (pos 4)"
     ]
    }
   ],
   "source": [
    "import cv2\n",
    "\n",
    "# Open the video file\n",
    "new_capture = cv2.VideoCapture(\"python_project.mp4\")\n",
    "\n",
    "# Check if the video file is opened successfully\n",
    "if not new_capture.isOpened():\n",
    "    print(\"Error in opening the video file\")\n",
    "\n",
    "# Get the frame rate and frame size of the video\n",
    "fps = new_capture.get(cv2.CAP_PROP_FPS)\n",
    "frame_width = int(new_capture.get(cv2.CAP_PROP_FRAME_WIDTH))\n",
    "frame_height = int(new_capture.get(cv2.CAP_PROP_FRAME_HEIGHT))\n",
    "\n",
    "# Create an OpenCV VideoWriter object to play the audio\n",
    "audio_writer = cv2.VideoWriter(\"temp_audio.mp3\", cv2.VideoWriter_fourcc(*'mp3'), int(fps), (frame_width, frame_height))\n",
    "\n",
    "# Loop through the video frames\n",
    "while new_capture.isOpened():\n",
    "    ret, frame = new_capture.read()\n",
    "    \n",
    "    # Check if the frame is read successfully\n",
    "    if ret:\n",
    "        # Display the frame\n",
    "        cv2.imshow(\"Frame\", frame)\n",
    "        \n",
    "        # Write the frame to the audio writer\n",
    "        audio_writer.write(frame)\n",
    "        \n",
    "        # Break the loop if 'q' is pressed\n",
    "        if cv2.waitKey(25) & 0xFF == ord(\"q\"):\n",
    "            break\n",
    "    else:\n",
    "        break\n",
    "\n",
    "# Release the video capture and audio writer objects\n",
    "new_capture.release()\n",
    "audio_writer.release()\n",
    "\n",
    "# Close all OpenCV windows\n",
    "cv2.destroyAllWindows()\n"
   ]
  },
  {
   "cell_type": "code",
   "execution_count": null,
   "id": "2c1caeb2-511d-4dc3-9764-e09186d0edd2",
   "metadata": {},
   "outputs": [],
   "source": []
  }
 ],
 "metadata": {
  "kernelspec": {
   "display_name": "Python 3 (ipykernel)",
   "language": "python",
   "name": "python3"
  },
  "language_info": {
   "codemirror_mode": {
    "name": "ipython",
    "version": 3
   },
   "file_extension": ".py",
   "mimetype": "text/x-python",
   "name": "python",
   "nbconvert_exporter": "python",
   "pygments_lexer": "ipython3",
   "version": "3.12.3"
  }
 },
 "nbformat": 4,
 "nbformat_minor": 5
}
